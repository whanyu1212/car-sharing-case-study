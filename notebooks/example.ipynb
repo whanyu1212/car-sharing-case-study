{
 "cells": [
  {
   "cell_type": "code",
   "execution_count": 1,
   "metadata": {},
   "outputs": [],
   "source": [
    "import pulp\n",
    "import sys\n",
    "sys.path.insert(0, '../')\n",
    "import polars as pl\n",
    "import numpy as np\n",
    "from src.data_synthesizer import DataSynthesizer"
   ]
  },
  {
   "cell_type": "code",
   "execution_count": 2,
   "metadata": {},
   "outputs": [
    {
     "data": {
      "text/plain": [
       "<polars.config.Config at 0x701e4ad02830>"
      ]
     },
     "execution_count": 2,
     "metadata": {},
     "output_type": "execute_result"
    }
   ],
   "source": [
    "pl.Config(tbl_width_chars=1000)"
   ]
  },
  {
   "cell_type": "code",
   "execution_count": 3,
   "metadata": {},
   "outputs": [],
   "source": [
    "# Load sample data using DataSynthesizer \n",
    "\n",
    "ds = DataSynthesizer(10000, 3000) # e.g., 10000 trips, 3000 unsuccesful trips\n",
    "trip_df = ds.trip_hist_data\n",
    "charge_df = ds.charge_status_data\n",
    "car_q_pop_df = ds.car_q_pop_data\n",
    "park_q_pop_df = ds.park_q_pop_data"
   ]
  },
  {
   "cell_type": "code",
   "execution_count": 4,
   "metadata": {},
   "outputs": [
    {
     "name": "stdout",
     "output_type": "stream",
     "text": [
      "shape: (3_000, 7)\n",
      "┌────────────────────────────┬────────────────────────────┬──────────────────┬────────────────┬────────────────────┬─────────┬─────────────┐\n",
      "│ trip_start_datetime        ┆ trip_end_datetime          ┆ start_station_id ┆ end_station_id ┆ distance_travelled ┆ car_id  ┆ customer_id │\n",
      "│ ---                        ┆ ---                        ┆ ---              ┆ ---            ┆ ---                ┆ ---     ┆ ---         │\n",
      "│ datetime[μs]               ┆ datetime[μs]               ┆ i64              ┆ i64            ┆ f64                ┆ str     ┆ str         │\n",
      "╞════════════════════════════╪════════════════════════════╪══════════════════╪════════════════╪════════════════════╪═════════╪═════════════╡\n",
      "│ 2024-04-29 23:58:58.426276 ┆ 2024-04-30 00:58:42.426276 ┆ 141              ┆ 343            ┆ 39.205389          ┆ CAR2563 ┆ CUS4759     │\n",
      "│ 2023-08-14 00:40:06.426298 ┆ 2023-08-14 02:20:45.426298 ┆ 54               ┆ 347            ┆ 18.518535          ┆ CAR2127 ┆ CUS3108     │\n",
      "│ 2023-12-09 10:31:12.426304 ┆ 2023-12-09 10:38:46.426304 ┆ 297              ┆ 158            ┆ 48.244902          ┆ CAR7591 ┆ CUS1132     │\n",
      "│ 2024-04-29 11:48:03.426309 ┆ 2024-04-29 13:34:56.426309 ┆ 304              ┆ 26             ┆ 40.689351          ┆ CAR6026 ┆ CUS3509     │\n",
      "│ 2023-10-22 23:02:43.426314 ┆ 2023-10-22 23:13:08.426314 ┆ 3                ┆ 33             ┆ 49.70713           ┆ CAR6387 ┆ CUS8632     │\n",
      "│ …                          ┆ …                          ┆ …                ┆ …              ┆ …                  ┆ …       ┆ …           │\n",
      "│ 2024-02-26 13:52:48.443602 ┆ 2024-02-26 14:41:59.443602 ┆ 78               ┆ 201            ┆ 27.950627          ┆ CAR9721 ┆ CUS1811     │\n",
      "│ 2023-08-22 23:05:21.443606 ┆ 2023-08-22 23:09:23.443606 ┆ 5                ┆ 347            ┆ 5.210624           ┆ CAR1618 ┆ CUS3070     │\n",
      "│ 2023-10-15 01:29:52.443610 ┆ 2023-10-15 03:35:23.443610 ┆ 22               ┆ 197            ┆ 2.550298           ┆ CAR1810 ┆ CUS1509     │\n",
      "│ 2023-12-04 21:48:40.443614 ┆ 2023-12-04 22:11:56.443614 ┆ 115              ┆ 358            ┆ 8.353177           ┆ CAR8637 ┆ CUS2432     │\n",
      "│ 2023-06-10 23:38:01.443618 ┆ 2023-06-11 00:40:36.443618 ┆ 295              ┆ 55             ┆ 8.87683            ┆ CAR8975 ┆ CUS1668     │\n",
      "└────────────────────────────┴────────────────────────────┴──────────────────┴────────────────┴────────────────────┴─────────┴─────────────┘\n"
     ]
    }
   ],
   "source": [
    "print(trip_df)"
   ]
  },
  {
   "cell_type": "code",
   "execution_count": 5,
   "metadata": {},
   "outputs": [
    {
     "name": "stdout",
     "output_type": "stream",
     "text": [
      "shape: (3_000, 7)\n",
      "┌────────────────────────────┬────────────────────────────┬─────────────────┬──────────────────┬─────────┬───────────────────────────┬────────────────────────────┐\n",
      "│ left_station_datetime      ┆ enter_station_datetime     ┆ left_station_id ┆ enter_station_id ┆ car_id  ┆ left_station_charge_level ┆ enter_station_charge_level │\n",
      "│ ---                        ┆ ---                        ┆ ---             ┆ ---              ┆ ---     ┆ ---                       ┆ ---                        │\n",
      "│ datetime[μs]               ┆ datetime[μs]               ┆ i64             ┆ i64              ┆ str     ┆ i64                       ┆ i64                        │\n",
      "╞════════════════════════════╪════════════════════════════╪═════════════════╪══════════════════╪═════════╪═══════════════════════════╪════════════════════════════╡\n",
      "│ 2024-04-29 23:58:58.426276 ┆ 2024-04-30 00:58:42.426276 ┆ 141             ┆ 343              ┆ CAR2563 ┆ 20                        ┆ 7                          │\n",
      "│ 2023-08-14 00:40:06.426298 ┆ 2023-08-14 02:20:45.426298 ┆ 54              ┆ 347              ┆ CAR2127 ┆ 3                         ┆ 6                          │\n",
      "│ 2023-12-09 10:31:12.426304 ┆ 2023-12-09 10:38:46.426304 ┆ 297             ┆ 158              ┆ CAR7591 ┆ 69                        ┆ 49                         │\n",
      "│ 2024-04-29 11:48:03.426309 ┆ 2024-04-29 13:34:56.426309 ┆ 304             ┆ 26               ┆ CAR6026 ┆ 98                        ┆ 94                         │\n",
      "│ 2023-10-22 23:02:43.426314 ┆ 2023-10-22 23:13:08.426314 ┆ 3               ┆ 33               ┆ CAR6387 ┆ 66                        ┆ 63                         │\n",
      "│ …                          ┆ …                          ┆ …               ┆ …                ┆ …       ┆ …                         ┆ …                          │\n",
      "│ 2024-02-26 13:52:48.443602 ┆ 2024-02-26 14:41:59.443602 ┆ 78              ┆ 201              ┆ CAR9721 ┆ 97                        ┆ 85                         │\n",
      "│ 2023-08-22 23:05:21.443606 ┆ 2023-08-22 23:09:23.443606 ┆ 5               ┆ 347              ┆ CAR1618 ┆ 96                        ┆ 80                         │\n",
      "│ 2023-10-15 01:29:52.443610 ┆ 2023-10-15 03:35:23.443610 ┆ 22              ┆ 197              ┆ CAR1810 ┆ 20                        ┆ 8                          │\n",
      "│ 2023-12-04 21:48:40.443614 ┆ 2023-12-04 22:11:56.443614 ┆ 115             ┆ 358              ┆ CAR8637 ┆ 23                        ┆ 2                          │\n",
      "│ 2023-06-10 23:38:01.443618 ┆ 2023-06-11 00:40:36.443618 ┆ 295             ┆ 55               ┆ CAR8975 ┆ 26                        ┆ 8                          │\n",
      "└────────────────────────────┴────────────────────────────┴─────────────────┴──────────────────┴─────────┴───────────────────────────┴────────────────────────────┘\n"
     ]
    }
   ],
   "source": [
    "print(charge_df)"
   ]
  },
  {
   "cell_type": "code",
   "execution_count": 6,
   "metadata": {},
   "outputs": [
    {
     "name": "stdout",
     "output_type": "stream",
     "text": [
      "shape: (4_000, 5)\n",
      "┌────────────────────────────┬────────────────────────────┬──────────────────┬──────────────┬─────────────┐\n",
      "│ event_creation_datetime    ┆ event_expiry_datetime      ┆ start_station_id ┆ event_status ┆ customer_id │\n",
      "│ ---                        ┆ ---                        ┆ ---              ┆ ---          ┆ ---         │\n",
      "│ datetime[μs]               ┆ datetime[μs]               ┆ i64              ┆ str          ┆ str         │\n",
      "╞════════════════════════════╪════════════════════════════╪══════════════════╪══════════════╪═════════════╡\n",
      "│ 2024-04-29 23:30:58.426276 ┆ 2024-04-30 00:00:58.426276 ┆ 141              ┆ successful   ┆ CUS4759     │\n",
      "│ 2023-08-14 00:12:06.426298 ┆ 2023-08-14 00:42:06.426298 ┆ 54               ┆ successful   ┆ CUS3108     │\n",
      "│ 2023-12-09 10:03:12.426304 ┆ 2023-12-09 10:33:12.426304 ┆ 297              ┆ successful   ┆ CUS1132     │\n",
      "│ 2024-04-29 11:20:03.426309 ┆ 2024-04-29 11:50:03.426309 ┆ 304              ┆ successful   ┆ CUS3509     │\n",
      "│ 2023-10-22 22:34:43.426314 ┆ 2023-10-22 23:04:43.426314 ┆ 3                ┆ successful   ┆ CUS8632     │\n",
      "│ …                          ┆ …                          ┆ …                ┆ …            ┆ …           │\n",
      "│ 2023-10-18 20:30:58.890808 ┆ 2023-10-18 21:00:58.890808 ┆ 280              ┆ unsuccessful ┆ CUS9026     │\n",
      "│ 2024-02-23 22:55:35.890816 ┆ 2024-02-23 23:25:35.890816 ┆ 375              ┆ unsuccessful ┆ CUS2844     │\n",
      "│ 2024-02-08 17:30:26.890825 ┆ 2024-02-08 18:00:26.890825 ┆ 309              ┆ unsuccessful ┆ CUS9973     │\n",
      "│ 2024-05-10 22:07:49.890833 ┆ 2024-05-10 22:37:49.890833 ┆ 147              ┆ unsuccessful ┆ CUS6962     │\n",
      "│ 2023-10-05 21:21:05.890841 ┆ 2023-10-05 21:51:05.890841 ┆ 352              ┆ unsuccessful ┆ CUS7599     │\n",
      "└────────────────────────────┴────────────────────────────┴──────────────────┴──────────────┴─────────────┘\n"
     ]
    }
   ],
   "source": [
    "print(car_q_pop_df)"
   ]
  },
  {
   "cell_type": "code",
   "execution_count": 7,
   "metadata": {},
   "outputs": [
    {
     "name": "stdout",
     "output_type": "stream",
     "text": [
      "shape: (4_000, 5)\n",
      "┌────────────────────────────┬────────────────────────────┬────────────────┬──────────────┬─────────────┐\n",
      "│ event_creation_datetime    ┆ event_expiry_datetime      ┆ end_station_id ┆ event_status ┆ customer_id │\n",
      "│ ---                        ┆ ---                        ┆ ---            ┆ ---          ┆ ---         │\n",
      "│ datetime[μs]               ┆ datetime[μs]               ┆ i64            ┆ str          ┆ str         │\n",
      "╞════════════════════════════╪════════════════════════════╪════════════════╪══════════════╪═════════════╡\n",
      "│ 2024-04-30 00:00:58.426276 ┆ 2024-04-30 00:10:58.426276 ┆ 343            ┆ successful   ┆ CUS4759     │\n",
      "│ 2023-08-14 00:42:06.426298 ┆ 2023-08-14 00:52:06.426298 ┆ 347            ┆ successful   ┆ CUS3108     │\n",
      "│ 2023-12-09 10:33:12.426304 ┆ 2023-12-09 10:43:12.426304 ┆ 158            ┆ successful   ┆ CUS1132     │\n",
      "│ 2024-04-29 11:50:03.426309 ┆ 2024-04-29 12:00:03.426309 ┆ 26             ┆ successful   ┆ CUS3509     │\n",
      "│ 2023-10-22 23:04:43.426314 ┆ 2023-10-22 23:14:43.426314 ┆ 33             ┆ successful   ┆ CUS8632     │\n",
      "│ …                          ┆ …                          ┆ …              ┆ …            ┆ …           │\n",
      "│ 2023-12-05 04:39:14.902243 ┆ 2023-12-05 05:09:14.902243 ┆ 98             ┆ unsuccessful ┆ CUS1052     │\n",
      "│ 2024-05-04 18:59:44.902247 ┆ 2024-05-04 19:29:44.902247 ┆ 194            ┆ unsuccessful ┆ CUS7036     │\n",
      "│ 2024-01-27 10:21:27.902252 ┆ 2024-01-27 10:51:27.902252 ┆ 284            ┆ unsuccessful ┆ CUS6732     │\n",
      "│ 2023-10-22 04:42:14.902256 ┆ 2023-10-22 05:12:14.902256 ┆ 234            ┆ unsuccessful ┆ CUS3270     │\n",
      "│ 2023-10-13 06:41:37.902260 ┆ 2023-10-13 07:11:37.902260 ┆ 276            ┆ unsuccessful ┆ CUS2333     │\n",
      "└────────────────────────────┴────────────────────────────┴────────────────┴──────────────┴─────────────┘\n"
     ]
    }
   ],
   "source": [
    "print(park_q_pop_df)"
   ]
  },
  {
   "cell_type": "code",
   "execution_count": 23,
   "metadata": {},
   "outputs": [],
   "source": [
    "import polars as pl\n",
    "\n",
    "\n",
    "num_stations = 380\n",
    "periods = 5 # assume we divide the day into 5 periods\n",
    "np.random.seed(42)\n",
    "\n",
    "station_ids = [f'Station_{i+1}' for i in range(num_stations)]\n",
    "time_periods = list(range(periods))\n",
    "\n",
    "# Generate unmet car reservation demand and unmet parking reservation demand for all stations and periods\n",
    "unmet_car_demand = np.random.randint(0, 4, size=(num_stations, periods))\n",
    "unmet_parking_demand = np.random.randint(0, 4, size=(num_stations, periods))\n",
    "\n",
    "failed_car_reservations = {(station_ids[i], t): unmet_car_demand[i, t] for i in range(num_stations) for t in time_periods}\n",
    "failed_parking_reservations = {(station_ids[i], t): unmet_parking_demand[i, t] for i in range(num_stations) for t in time_periods}\n",
    "\n",
    "predicted_demand = {(station_ids[i], t): unmet_car_demand[i, t] + unmet_parking_demand[i, t] + np.random.randint(1, 5)\n",
    "                    for i in range(num_stations) for t in time_periods}\n",
    "\n",
    "# Create a list for each column\n",
    "stations = [station_ids[i] for i in range(num_stations) for t in time_periods]\n",
    "time_periods_list = [t for i in range(num_stations) for t in time_periods]\n",
    "failed_car_reservations_list = [failed_car_reservations[(station_ids[i], t)] for i in range(num_stations) for t in time_periods]\n",
    "failed_parking_reservations_list = [failed_parking_reservations[(station_ids[i], t)] for i in range(num_stations) for t in time_periods]\n",
    "predicted_demand_list = [predicted_demand[(station_ids[i], t)] for i in range(num_stations) for t in time_periods]\n",
    "\n",
    "# Create a DataFrame from the lists\n",
    "df = pl.DataFrame({\n",
    "    'Station': stations,\n",
    "    'Time Period': time_periods_list,\n",
    "    'Failed Car Reservations': failed_car_reservations_list,\n",
    "    'Failed Parking Reservations': failed_parking_reservations_list,\n",
    "    'Predicted or Average Demand': predicted_demand_list\n",
    "})"
   ]
  },
  {
   "cell_type": "code",
   "execution_count": 24,
   "metadata": {},
   "outputs": [
    {
     "name": "stdout",
     "output_type": "stream",
     "text": [
      "shape: (1_900, 5)\n",
      "┌─────────────┬─────────────┬─────────────────────────┬─────────────────────────────┬─────────────────────────────┐\n",
      "│ Station     ┆ Time Period ┆ Failed Car Reservations ┆ Failed Parking Reservations ┆ Predicted or Average Demand │\n",
      "│ ---         ┆ ---         ┆ ---                     ┆ ---                         ┆ ---                         │\n",
      "│ str         ┆ i64         ┆ i64                     ┆ i64                         ┆ i64                         │\n",
      "╞═════════════╪═════════════╪═════════════════════════╪═════════════════════════════╪═════════════════════════════╡\n",
      "│ Station_1   ┆ 0           ┆ 2                       ┆ 3                           ┆ 9                           │\n",
      "│ Station_1   ┆ 1           ┆ 3                       ┆ 0                           ┆ 7                           │\n",
      "│ Station_1   ┆ 2           ┆ 0                       ┆ 0                           ┆ 2                           │\n",
      "│ Station_1   ┆ 3           ┆ 2                       ┆ 0                           ┆ 4                           │\n",
      "│ Station_1   ┆ 4           ┆ 2                       ┆ 2                           ┆ 6                           │\n",
      "│ …           ┆ …           ┆ …                       ┆ …                           ┆ …                           │\n",
      "│ Station_380 ┆ 0           ┆ 2                       ┆ 1                           ┆ 4                           │\n",
      "│ Station_380 ┆ 1           ┆ 1                       ┆ 0                           ┆ 5                           │\n",
      "│ Station_380 ┆ 2           ┆ 2                       ┆ 3                           ┆ 6                           │\n",
      "│ Station_380 ┆ 3           ┆ 3                       ┆ 0                           ┆ 6                           │\n",
      "│ Station_380 ┆ 4           ┆ 1                       ┆ 0                           ┆ 3                           │\n",
      "└─────────────┴─────────────┴─────────────────────────┴─────────────────────────────┴─────────────────────────────┘\n"
     ]
    }
   ],
   "source": [
    "print(df)"
   ]
  },
  {
   "cell_type": "code",
   "execution_count": 25,
   "metadata": {},
   "outputs": [],
   "source": [
    "prob = pulp.LpProblem(\"EVChargingPortExpansion\", pulp.LpMinimize)"
   ]
  },
  {
   "cell_type": "code",
   "execution_count": 26,
   "metadata": {},
   "outputs": [],
   "source": [
    "additional_ports = pulp.LpVariable.dicts(\"AdditionalPorts\", station_ids, lowBound=0, cat='Integer')"
   ]
  },
  {
   "cell_type": "code",
   "execution_count": 29,
   "metadata": {},
   "outputs": [],
   "source": [
    "D_c = 1  # Dissatisfaction cost per failed car reservation\n",
    "D_p = 1  # Dissatisfaction cost per failed parking reservation\n",
    "prob += pulp.lpSum(D_c * failed_car_reservations[(s, t)] + D_p * failed_parking_reservations[(s, t)]\n",
    "                   for s in station_ids for t in time_periods)"
   ]
  },
  {
   "cell_type": "code",
   "execution_count": 32,
   "metadata": {},
   "outputs": [],
   "source": [
    "current_capacity = {station: 4 for station in station_ids}"
   ]
  },
  {
   "cell_type": "code",
   "execution_count": 44,
   "metadata": {},
   "outputs": [],
   "source": [
    "installation_cost_per_port = 1000  # Cost per additional port\n",
    "budget = 9999999999999999  # Total budget (you may want to adjust this based on the scale)"
   ]
  },
  {
   "cell_type": "code",
   "execution_count": 52,
   "metadata": {},
   "outputs": [
    {
     "name": "stdout",
     "output_type": "stream",
     "text": [
      "Welcome to the CBC MILP Solver \n",
      "Version: 2.10.3 \n",
      "Build Date: Dec 15 2019 \n",
      "\n",
      "command line - /home/codespace/.cache/pypoetry/virtualenvs/car-sharing-case-study-2W5MY4dm-py3.10/lib/python3.10/site-packages/pulp/solverdir/cbc/linux/64/cbc /tmp/a40a3d8e354b4c37822f2c180d5f179c-pulp.mps -timeMode elapsed -branch -printingOptions all -solution /tmp/a40a3d8e354b4c37822f2c180d5f179c-pulp.sol (default strategy 1)\n",
      "At line 2 NAME          MODEL\n",
      "At line 3 ROWS\n",
      "At line 1364 COLUMNS\n",
      "At line 3266 RHS\n",
      "At line 4626 BOUNDS\n",
      "At line 4678 ENDATA\n",
      "Problem MODEL has 1359 rows, 51 columns and 1800 elements\n",
      "Coin0008I MODEL read with 0 errors\n",
      "Option for timeMode changed from cpu to elapsed\n",
      "Continuous objective value is 0 - 0.00 seconds\n",
      "Cgl0004I processed model has 0 rows, 0 columns (0 integer (0 of which binary)) and 0 elements\n",
      "Cbc3007W No integer variables - nothing to do\n",
      "Cuts at root node changed objective from 0 to -1.79769e+308\n",
      "Probing was tried 0 times and created 0 cuts of which 0 were active after adding rounds of cuts (0.000 seconds)\n",
      "Gomory was tried 0 times and created 0 cuts of which 0 were active after adding rounds of cuts (0.000 seconds)\n",
      "Knapsack was tried 0 times and created 0 cuts of which 0 were active after adding rounds of cuts (0.000 seconds)\n",
      "Clique was tried 0 times and created 0 cuts of which 0 were active after adding rounds of cuts (0.000 seconds)\n",
      "MixedIntegerRounding2 was tried 0 times and created 0 cuts of which 0 were active after adding rounds of cuts (0.000 seconds)\n",
      "FlowCover was tried 0 times and created 0 cuts of which 0 were active after adding rounds of cuts (0.000 seconds)\n",
      "TwoMirCuts was tried 0 times and created 0 cuts of which 0 were active after adding rounds of cuts (0.000 seconds)\n",
      "ZeroHalf was tried 0 times and created 0 cuts of which 0 were active after adding rounds of cuts (0.000 seconds)\n",
      "\n",
      "Result - Optimal solution found\n",
      "\n",
      "Objective value:                0.00000000\n",
      "Enumerated nodes:               0\n",
      "Total iterations:               0\n",
      "Time (CPU seconds):             0.00\n",
      "Time (Wallclock seconds):       0.00\n",
      "\n",
      "Option for printingOptions changed from normal to all\n",
      "Total time (CPU seconds):       0.00   (Wallclock seconds):       0.01\n",
      "\n",
      "shape: (48, 2)\n",
      "┌────────────┬──────────────────┐\n",
      "│ Station    ┆ Additional Ports │\n",
      "│ ---        ┆ ---              │\n",
      "│ str        ┆ f64              │\n",
      "╞════════════╪══════════════════╡\n",
      "│ Station_44 ┆ 6.0              │\n",
      "│ Station_40 ┆ 6.0              │\n",
      "│ Station_12 ┆ 6.0              │\n",
      "│ Station_8  ┆ 6.0              │\n",
      "│ Station_3  ┆ 6.0              │\n",
      "│ …          ┆ …                │\n",
      "│ Station_15 ┆ 2.0              │\n",
      "│ Station_9  ┆ 2.0              │\n",
      "│ Station_27 ┆ 1.0              │\n",
      "│ Station_20 ┆ 1.0              │\n",
      "│ Station_16 ┆ 1.0              │\n",
      "└────────────┴──────────────────┘\n"
     ]
    }
   ],
   "source": [
    "# Constraints\n",
    "for s in station_ids:\n",
    "    # New capacity must meet predicted demand\n",
    "    for t in time_periods:\n",
    "        prob += current_capacity[s] + additional_ports[s] >= predicted_demand[(s, t)]\n",
    "\n",
    "# Budget constraint\n",
    "prob += pulp.lpSum(additional_ports[s] * installation_cost_per_port for s in station_ids) <= budget\n",
    "\n",
    "# Solve the problem\n",
    "prob.solve()\n",
    "\n",
    "\n",
    "results = {s: pulp.value(additional_ports[s]) for s in station_ids if pulp.value(additional_ports[s]) > 0}\n",
    "results_df = pl.DataFrame(list(results.items()), [\"Station\", \"Additional Ports\"])\n",
    "print(results_df.sort('Additional Ports').reverse())"
   ]
  }
 ],
 "metadata": {
  "kernelspec": {
   "display_name": "car-sharing-case-study-2W5MY4dm-py3.10",
   "language": "python",
   "name": "python3"
  },
  "language_info": {
   "codemirror_mode": {
    "name": "ipython",
    "version": 3
   },
   "file_extension": ".py",
   "mimetype": "text/x-python",
   "name": "python",
   "nbconvert_exporter": "python",
   "pygments_lexer": "ipython3",
   "version": "3.10.13"
  }
 },
 "nbformat": 4,
 "nbformat_minor": 2
}
