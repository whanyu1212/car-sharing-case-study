{
 "cells": [
  {
   "cell_type": "code",
   "execution_count": 1,
   "metadata": {},
   "outputs": [],
   "source": [
    "import pulp\n",
    "import sys\n",
    "sys.path.insert(0, '../')\n",
    "import polars as pl\n",
    "import pandas as pd\n",
    "import numpy as np\n",
    "from src.data_synthesizer import DataSynthesizer"
   ]
  },
  {
   "cell_type": "code",
   "execution_count": 2,
   "metadata": {},
   "outputs": [
    {
     "data": {
      "text/plain": [
       "<polars.config.Config at 0x7e628df89840>"
      ]
     },
     "execution_count": 2,
     "metadata": {},
     "output_type": "execute_result"
    }
   ],
   "source": [
    "pl.Config(tbl_width_chars=1000)"
   ]
  },
  {
   "cell_type": "code",
   "execution_count": 3,
   "metadata": {},
   "outputs": [],
   "source": [
    "# Load sample data using DataSynthesizer \n",
    "\n",
    "ds = DataSynthesizer(10000, 3000) # e.g., 10000 trips, 3000 unsuccesful trips\n",
    "trip_df = ds.trip_hist_data\n",
    "charge_df = ds.charge_status_data\n",
    "car_q_pop_df = ds.car_q_pop_data\n",
    "park_q_pop_df = ds.park_q_pop_data"
   ]
  },
  {
   "cell_type": "code",
   "execution_count": 4,
   "metadata": {},
   "outputs": [
    {
     "name": "stdout",
     "output_type": "stream",
     "text": [
      "shape: (3_000, 7)\n",
      "┌────────────────────────────┬────────────────────────────┬──────────────────┬────────────────┬────────────────────┬─────────┬─────────────┐\n",
      "│ trip_start_datetime        ┆ trip_end_datetime          ┆ start_station_id ┆ end_station_id ┆ distance_travelled ┆ car_id  ┆ customer_id │\n",
      "│ ---                        ┆ ---                        ┆ ---              ┆ ---            ┆ ---                ┆ ---     ┆ ---         │\n",
      "│ datetime[μs]               ┆ datetime[μs]               ┆ i64              ┆ i64            ┆ f64                ┆ str     ┆ str         │\n",
      "╞════════════════════════════╪════════════════════════════╪══════════════════╪════════════════╪════════════════════╪═════════╪═════════════╡\n",
      "│ 2024-01-03 14:12:17.869382 ┆ 2024-01-03 15:21:54.869382 ┆ 141              ┆ 343            ┆ 39.205389          ┆ CAR2563 ┆ CUS4759     │\n",
      "│ 2024-04-24 16:34:31.869413 ┆ 2024-04-24 17:55:39.869413 ┆ 54               ┆ 347            ┆ 18.518535          ┆ CAR2127 ┆ CUS3108     │\n",
      "│ 2023-07-04 21:31:51.869424 ┆ 2023-07-04 22:03:28.869424 ┆ 297              ┆ 158            ┆ 48.244902          ┆ CAR7591 ┆ CUS1132     │\n",
      "│ 2023-08-05 04:17:37.869433 ┆ 2023-08-05 06:24:47.869433 ┆ 304              ┆ 26             ┆ 40.689351          ┆ CAR6026 ┆ CUS3509     │\n",
      "│ 2024-02-01 06:39:19.869442 ┆ 2024-02-01 07:23:10.869442 ┆ 3                ┆ 33             ┆ 49.70713           ┆ CAR6387 ┆ CUS8632     │\n",
      "│ …                          ┆ …                          ┆ …                ┆ …              ┆ …                  ┆ …       ┆ …           │\n",
      "│ 2024-05-23 20:32:18.887056 ┆ 2024-05-23 22:34:29.887056 ┆ 78               ┆ 201            ┆ 27.950627          ┆ CAR9721 ┆ CUS1811     │\n",
      "│ 2023-07-14 21:34:32.887060 ┆ 2023-07-14 23:57:24.887060 ┆ 5                ┆ 347            ┆ 5.210624           ┆ CAR1618 ┆ CUS3070     │\n",
      "│ 2023-09-04 03:28:48.887065 ┆ 2023-09-04 04:46:26.887065 ┆ 22               ┆ 197            ┆ 2.550298           ┆ CAR1810 ┆ CUS1509     │\n",
      "│ 2023-12-18 08:34:53.887069 ┆ 2023-12-18 09:56:56.887069 ┆ 115              ┆ 358            ┆ 8.353177           ┆ CAR8637 ┆ CUS2432     │\n",
      "│ 2023-09-23 18:26:40.887073 ┆ 2023-09-23 19:12:42.887073 ┆ 295              ┆ 55             ┆ 8.87683            ┆ CAR8975 ┆ CUS1668     │\n",
      "└────────────────────────────┴────────────────────────────┴──────────────────┴────────────────┴────────────────────┴─────────┴─────────────┘\n"
     ]
    }
   ],
   "source": [
    "print(trip_df)"
   ]
  },
  {
   "cell_type": "code",
   "execution_count": 5,
   "metadata": {},
   "outputs": [
    {
     "name": "stdout",
     "output_type": "stream",
     "text": [
      "shape: (3_000, 7)\n",
      "┌────────────────────────────┬────────────────────────────┬─────────────────┬──────────────────┬─────────┬───────────────────────────┬────────────────────────────┐\n",
      "│ left_station_datetime      ┆ enter_station_datetime     ┆ left_station_id ┆ enter_station_id ┆ car_id  ┆ left_station_charge_level ┆ enter_station_charge_level │\n",
      "│ ---                        ┆ ---                        ┆ ---             ┆ ---              ┆ ---     ┆ ---                       ┆ ---                        │\n",
      "│ datetime[μs]               ┆ datetime[μs]               ┆ i64             ┆ i64              ┆ str     ┆ i64                       ┆ i64                        │\n",
      "╞════════════════════════════╪════════════════════════════╪═════════════════╪══════════════════╪═════════╪═══════════════════════════╪════════════════════════════╡\n",
      "│ 2024-01-03 14:12:17.869382 ┆ 2024-01-03 15:21:54.869382 ┆ 141             ┆ 343              ┆ CAR2563 ┆ 20                        ┆ 7                          │\n",
      "│ 2024-04-24 16:34:31.869413 ┆ 2024-04-24 17:55:39.869413 ┆ 54              ┆ 347              ┆ CAR2127 ┆ 3                         ┆ 6                          │\n",
      "│ 2023-07-04 21:31:51.869424 ┆ 2023-07-04 22:03:28.869424 ┆ 297             ┆ 158              ┆ CAR7591 ┆ 69                        ┆ 49                         │\n",
      "│ 2023-08-05 04:17:37.869433 ┆ 2023-08-05 06:24:47.869433 ┆ 304             ┆ 26               ┆ CAR6026 ┆ 98                        ┆ 94                         │\n",
      "│ 2024-02-01 06:39:19.869442 ┆ 2024-02-01 07:23:10.869442 ┆ 3               ┆ 33               ┆ CAR6387 ┆ 66                        ┆ 63                         │\n",
      "│ …                          ┆ …                          ┆ …               ┆ …                ┆ …       ┆ …                         ┆ …                          │\n",
      "│ 2024-05-23 20:32:18.887056 ┆ 2024-05-23 22:34:29.887056 ┆ 78              ┆ 201              ┆ CAR9721 ┆ 97                        ┆ 85                         │\n",
      "│ 2023-07-14 21:34:32.887060 ┆ 2023-07-14 23:57:24.887060 ┆ 5               ┆ 347              ┆ CAR1618 ┆ 96                        ┆ 80                         │\n",
      "│ 2023-09-04 03:28:48.887065 ┆ 2023-09-04 04:46:26.887065 ┆ 22              ┆ 197              ┆ CAR1810 ┆ 20                        ┆ 8                          │\n",
      "│ 2023-12-18 08:34:53.887069 ┆ 2023-12-18 09:56:56.887069 ┆ 115             ┆ 358              ┆ CAR8637 ┆ 23                        ┆ 2                          │\n",
      "│ 2023-09-23 18:26:40.887073 ┆ 2023-09-23 19:12:42.887073 ┆ 295             ┆ 55               ┆ CAR8975 ┆ 26                        ┆ 8                          │\n",
      "└────────────────────────────┴────────────────────────────┴─────────────────┴──────────────────┴─────────┴───────────────────────────┴────────────────────────────┘\n"
     ]
    }
   ],
   "source": [
    "print(charge_df)"
   ]
  },
  {
   "cell_type": "code",
   "execution_count": 7,
   "metadata": {},
   "outputs": [
    {
     "name": "stdout",
     "output_type": "stream",
     "text": [
      "shape: (4_000, 5)\n",
      "┌────────────────────────────┬────────────────────────────┬──────────────────┬──────────────┬─────────────┐\n",
      "│ event_creation_datetime    ┆ event_expiry_datetime      ┆ start_station_id ┆ event_status ┆ customer_id │\n",
      "│ ---                        ┆ ---                        ┆ ---              ┆ ---          ┆ ---         │\n",
      "│ datetime[μs]               ┆ datetime[μs]               ┆ i64              ┆ str          ┆ str         │\n",
      "╞════════════════════════════╪════════════════════════════╪══════════════════╪══════════════╪═════════════╡\n",
      "│ 2024-01-03 13:49:17.869382 ┆ 2024-01-03 14:19:17.869382 ┆ 141              ┆ successful   ┆ CUS4759     │\n",
      "│ 2024-04-24 16:11:31.869413 ┆ 2024-04-24 16:41:31.869413 ┆ 54               ┆ successful   ┆ CUS3108     │\n",
      "│ 2023-07-04 21:08:51.869424 ┆ 2023-07-04 21:38:51.869424 ┆ 297              ┆ successful   ┆ CUS1132     │\n",
      "│ 2023-08-05 03:54:37.869433 ┆ 2023-08-05 04:24:37.869433 ┆ 304              ┆ successful   ┆ CUS3509     │\n",
      "│ 2024-02-01 06:16:19.869442 ┆ 2024-02-01 06:46:19.869442 ┆ 3                ┆ successful   ┆ CUS8632     │\n",
      "│ …                          ┆ …                          ┆ …                ┆ …            ┆ …           │\n",
      "│ 2023-12-27 00:21:06.356888 ┆ 2023-12-27 00:51:06.356888 ┆ 280              ┆ unsuccessful ┆ CUS9026     │\n",
      "│ 2023-09-16 16:52:25.356892 ┆ 2023-09-16 17:22:25.356892 ┆ 375              ┆ unsuccessful ┆ CUS2844     │\n",
      "│ 2024-02-15 00:05:26.356897 ┆ 2024-02-15 00:35:26.356897 ┆ 309              ┆ unsuccessful ┆ CUS9973     │\n",
      "│ 2023-12-31 15:27:51.356901 ┆ 2023-12-31 15:57:51.356901 ┆ 147              ┆ unsuccessful ┆ CUS6962     │\n",
      "│ 2023-10-06 06:05:57.356906 ┆ 2023-10-06 06:35:57.356906 ┆ 352              ┆ unsuccessful ┆ CUS7599     │\n",
      "└────────────────────────────┴────────────────────────────┴──────────────────┴──────────────┴─────────────┘\n"
     ]
    }
   ],
   "source": [
    "print(car_q_pop_df)"
   ]
  },
  {
   "cell_type": "code",
   "execution_count": 8,
   "metadata": {},
   "outputs": [
    {
     "name": "stdout",
     "output_type": "stream",
     "text": [
      "shape: (4_000, 5)\n",
      "┌────────────────────────────┬────────────────────────────┬────────────────┬──────────────┬─────────────┐\n",
      "│ event_creation_datetime    ┆ event_expiry_datetime      ┆ end_station_id ┆ event_status ┆ customer_id │\n",
      "│ ---                        ┆ ---                        ┆ ---            ┆ ---          ┆ ---         │\n",
      "│ datetime[μs]               ┆ datetime[μs]               ┆ i64            ┆ str          ┆ str         │\n",
      "╞════════════════════════════╪════════════════════════════╪════════════════╪══════════════╪═════════════╡\n",
      "│ 2024-01-03 14:34:17.869382 ┆ 2024-01-03 14:44:17.869382 ┆ 343            ┆ successful   ┆ CUS4759     │\n",
      "│ 2024-04-24 16:56:31.869413 ┆ 2024-04-24 17:06:31.869413 ┆ 347            ┆ successful   ┆ CUS3108     │\n",
      "│ 2023-07-04 21:53:51.869424 ┆ 2023-07-04 22:03:51.869424 ┆ 158            ┆ successful   ┆ CUS1132     │\n",
      "│ 2023-08-05 04:39:37.869433 ┆ 2023-08-05 04:49:37.869433 ┆ 26             ┆ successful   ┆ CUS3509     │\n",
      "│ 2024-02-01 07:01:19.869442 ┆ 2024-02-01 07:11:19.869442 ┆ 33             ┆ successful   ┆ CUS8632     │\n",
      "│ …                          ┆ …                          ┆ …              ┆ …            ┆ …           │\n",
      "│ 2023-11-13 14:42:24.368399 ┆ 2023-11-13 15:12:24.368399 ┆ 98             ┆ unsuccessful ┆ CUS1052     │\n",
      "│ 2023-10-05 01:27:31.368404 ┆ 2023-10-05 01:57:31.368404 ┆ 194            ┆ unsuccessful ┆ CUS7036     │\n",
      "│ 2023-09-25 05:13:08.368408 ┆ 2023-09-25 05:43:08.368408 ┆ 284            ┆ unsuccessful ┆ CUS6732     │\n",
      "│ 2023-10-05 04:50:01.368413 ┆ 2023-10-05 05:20:01.368413 ┆ 234            ┆ unsuccessful ┆ CUS3270     │\n",
      "│ 2024-02-17 06:22:50.368417 ┆ 2024-02-17 06:52:50.368417 ┆ 276            ┆ unsuccessful ┆ CUS2333     │\n",
      "└────────────────────────────┴────────────────────────────┴────────────────┴──────────────┴─────────────┘\n"
     ]
    }
   ],
   "source": [
    "print(park_q_pop_df)"
   ]
  },
  {
   "cell_type": "code",
   "execution_count": 9,
   "metadata": {},
   "outputs": [],
   "source": [
    "import polars as pl\n",
    "\n",
    "\n",
    "num_stations = 380\n",
    "periods = 5 # assume we divide the day into 5 periods\n",
    "np.random.seed(42)\n",
    "\n",
    "station_ids = [f'Station_{i+1}' for i in range(num_stations)]\n",
    "time_periods = list(range(periods))\n",
    "\n",
    "# Generate unmet car reservation demand and unmet parking reservation demand for all stations and periods\n",
    "unmet_car_demand = np.random.randint(0, 4, size=(num_stations, periods))\n",
    "unmet_parking_demand = np.random.randint(0, 4, size=(num_stations, periods))\n",
    "\n",
    "failed_car_reservations = {(station_ids[i], t): unmet_car_demand[i, t] for i in range(num_stations) for t in time_periods}\n",
    "failed_parking_reservations = {(station_ids[i], t): unmet_parking_demand[i, t] for i in range(num_stations) for t in time_periods}\n",
    "\n",
    "predicted_demand = {(station_ids[i], t): unmet_car_demand[i, t] + unmet_parking_demand[i, t] + np.random.randint(1, 5)\n",
    "                    for i in range(num_stations) for t in time_periods}\n",
    "\n",
    "# Create a list for each column\n",
    "stations = [station_ids[i] for i in range(num_stations) for t in time_periods]\n",
    "time_periods_list = [t for i in range(num_stations) for t in time_periods]\n",
    "failed_car_reservations_list = [failed_car_reservations[(station_ids[i], t)] for i in range(num_stations) for t in time_periods]\n",
    "failed_parking_reservations_list = [failed_parking_reservations[(station_ids[i], t)] for i in range(num_stations) for t in time_periods]\n",
    "predicted_demand_list = [predicted_demand[(station_ids[i], t)] for i in range(num_stations) for t in time_periods]\n",
    "\n",
    "# Create a DataFrame from the lists\n",
    "df = pl.DataFrame({\n",
    "    'Station': stations,\n",
    "    'Time Period': time_periods_list,\n",
    "    'Failed Car Reservations': failed_car_reservations_list,\n",
    "    'Failed Parking Reservations': failed_parking_reservations_list,\n",
    "    'Total unmet demand': [failed_car_reservations_list[i] + failed_parking_reservations_list[i] for i in range(len(failed_car_reservations_list))],\n",
    "    'Predicted or Average Demand': predicted_demand_list\n",
    "})"
   ]
  },
  {
   "cell_type": "code",
   "execution_count": 10,
   "metadata": {},
   "outputs": [],
   "source": [
    "df_pd = df.to_pandas()\n",
    "lst = []\n",
    "for i in df_pd[\"Station\"].unique():\n",
    "    lst.append(df_pd.loc[df_pd[\"Station\"] == i][\"Total unmet demand\"].tolist())"
   ]
  },
  {
   "cell_type": "code",
   "execution_count": 11,
   "metadata": {},
   "outputs": [
    {
     "name": "stdout",
     "output_type": "stream",
     "text": [
      "[[5, 3, 0, 2, 4], [4, 0, 0, 3, 1], [5, 3, 3, 3, 6], [1, 6, 4, 5, 2], [3, 0, 4, 5, 4], [1, 1, 3, 6, 5], [3, 3, 3, 3, 3], [3, 5, 1, 1, 4], [4, 5, 2, 4, 3], [6, 3, 3, 4, 3], [5, 3, 4, 6, 4], [3, 4, 2, 2, 2], [3, 2, 1, 1, 2], [1, 3, 3, 3, 1], [1, 1, 2, 4, 1], [1, 5, 5, 4, 4], [2, 6, 3, 5, 3], [3, 2, 3, 5, 1], [6, 5, 3, 1, 1], [1, 2, 3, 3, 0], [4, 4, 2, 6, 4], [3, 4, 5, 1, 2], [5, 2, 4, 4, 3], [6, 0, 2, 3, 3], [5, 2, 2, 2, 0], [4, 3, 3, 4, 6], [5, 0, 2, 1, 2], [1, 1, 2, 3, 2], [3, 2, 3, 5, 6], [5, 3, 4, 2, 3], [3, 4, 1, 5, 2], [3, 3, 3, 1, 5], [2, 1, 5, 6, 3], [3, 6, 2, 3, 3], [3, 2, 5, 4, 5], [3, 5, 4, 2, 5], [0, 5, 1, 3, 0], [0, 2, 2, 5, 1], [3, 5, 1, 3, 4], [3, 2, 4, 1, 4], [4, 3, 2, 1, 6], [3, 5, 5, 3, 1], [5, 2, 1, 2, 2], [1, 3, 3, 3, 5], [5, 5, 3, 3, 2], [2, 0, 3, 2, 3], [1, 3, 4, 3, 5], [3, 2, 4, 3, 4], [4, 3, 4, 0, 2], [4, 0, 0, 1, 4], [1, 2, 3, 0, 3], [5, 5, 3, 4, 2], [0, 1, 2, 3, 3], [3, 6, 5, 3, 5], [3, 4, 3, 4, 0], [5, 3, 4, 2, 4], [6, 3, 3, 3, 1], [4, 0, 1, 1, 5], [1, 2, 1, 1, 1], [4, 3, 5, 1, 3], [0, 1, 4, 3, 1], [0, 5, 4, 4, 1], [3, 4, 4, 4, 3], [4, 3, 0, 5, 3], [6, 2, 4, 1, 4], [1, 4, 2, 3, 6], [1, 0, 4, 4, 1], [6, 2, 4, 6, 3], [2, 5, 2, 2, 5], [3, 2, 5, 6, 2], [3, 2, 2, 4, 6], [5, 3, 4, 3, 4], [3, 3, 1, 2, 3], [2, 4, 4, 2, 5], [3, 3, 1, 4, 3], [3, 6, 1, 1, 2], [4, 3, 6, 3, 1], [6, 4, 2, 0, 0], [3, 5, 5, 6, 5], [6, 3, 3, 5, 3], [3, 3, 4, 0, 3], [3, 2, 6, 5, 3], [3, 6, 3, 0, 4], [0, 1, 1, 5, 3], [3, 2, 2, 5, 5], [0, 1, 5, 2, 4], [3, 2, 1, 3, 3], [6, 5, 4, 5, 2], [1, 5, 0, 3, 3], [5, 4, 2, 5, 4], [4, 1, 3, 4, 1], [4, 2, 5, 3, 2], [4, 1, 3, 3, 6], [4, 4, 0, 0, 4], [3, 6, 5, 6, 3], [6, 2, 6, 0, 6], [4, 1, 1, 2, 0], [2, 3, 6, 2, 1], [4, 1, 3, 3, 0], [5, 5, 5, 2, 6], [2, 3, 2, 3, 4], [0, 4, 4, 5, 4], [2, 3, 3, 3, 2], [3, 4, 2, 3, 4], [3, 4, 1, 2, 3], [4, 4, 1, 1, 3], [3, 6, 1, 2, 3], [4, 4, 4, 2, 3], [2, 2, 5, 4, 3], [3, 0, 5, 4, 2], [2, 6, 1, 5, 0], [3, 5, 3, 3, 2], [6, 3, 4, 3, 3], [3, 4, 3, 2, 5], [4, 3, 2, 4, 5], [3, 3, 4, 2, 1], [1, 0, 3, 4, 3], [4, 2, 3, 6, 2], [2, 3, 3, 6, 3], [6, 3, 3, 5, 4], [1, 5, 3, 2, 3], [4, 2, 4, 6, 6], [3, 1, 4, 4, 1], [5, 2, 4, 3, 2], [3, 2, 5, 4, 2], [4, 0, 1, 5, 2], [1, 4, 3, 1, 2], [3, 2, 3, 4, 5], [1, 1, 3, 3, 4], [0, 3, 2, 4, 2], [5, 3, 2, 3, 1], [1, 5, 4, 6, 2], [4, 5, 3, 1, 1], [3, 4, 4, 3, 2], [1, 1, 1, 1, 3], [1, 3, 3, 4, 2], [4, 2, 3, 4, 2], [2, 2, 1, 3, 3], [2, 2, 2, 6, 1], [6, 4, 1, 3, 4], [2, 3, 1, 3, 2], [2, 6, 3, 4, 6], [5, 4, 1, 6, 4], [6, 3, 5, 5, 5], [3, 4, 6, 3, 3], [1, 3, 3, 1, 5], [4, 2, 0, 6, 2], [3, 5, 1, 1, 6], [4, 4, 1, 0, 2], [3, 3, 4, 2, 2], [6, 0, 4, 1, 3], [1, 3, 5, 2, 5], [4, 2, 1, 3, 1], [2, 3, 6, 3, 2], [2, 3, 1, 5, 3], [0, 0, 4, 5, 4], [0, 4, 6, 3, 2], [0, 4, 4, 3, 5], [4, 3, 3, 6, 3], [3, 3, 5, 3, 3], [0, 3, 3, 0, 4], [4, 3, 1, 4, 3], [3, 4, 1, 6, 4], [2, 1, 4, 5, 1], [3, 3, 4, 4, 3], [4, 5, 1, 4, 3], [2, 1, 5, 6, 3], [4, 4, 1, 6, 1], [3, 4, 2, 2, 0], [1, 1, 1, 3, 2], [5, 1, 2, 3, 5], [2, 2, 5, 2, 4], [4, 0, 3, 1, 3], [3, 1, 3, 2, 1], [2, 3, 4, 3, 4], [5, 1, 3, 2, 2], [2, 2, 4, 4, 4], [3, 1, 1, 4, 3], [3, 2, 0, 0, 6], [6, 3, 6, 2, 2], [3, 4, 4, 5, 2], [3, 1, 4, 2, 4], [2, 0, 0, 4, 6], [4, 4, 5, 5, 4], [3, 4, 0, 5, 1], [3, 1, 3, 3, 0], [5, 4, 0, 0, 5], [2, 2, 0, 1, 3], [3, 0, 3, 2, 1], [5, 1, 6, 1, 1], [5, 5, 2, 4, 3], [2, 4, 0, 1, 4], [2, 3, 3, 4, 3], [2, 3, 2, 4, 4], [6, 3, 0, 5, 6], [2, 4, 6, 5, 4], [4, 3, 3, 2, 6], [1, 6, 4, 1, 5], [2, 5, 2, 3, 5], [2, 1, 5, 4, 3], [2, 3, 0, 1, 3], [2, 6, 0, 6, 5], [3, 0, 2, 5, 0], [1, 3, 4, 6, 1], [2, 3, 1, 1, 4], [2, 4, 3, 1, 3], [3, 5, 0, 1, 0], [1, 6, 2, 0, 2], [0, 3, 2, 2, 4], [3, 2, 1, 1, 3], [2, 2, 3, 3, 1], [0, 3, 4, 3, 3], [2, 0, 5, 1, 2], [4, 0, 2, 2, 0], [3, 2, 3, 4, 0], [2, 4, 0, 1, 0], [2, 3, 0, 5, 4], [1, 1, 5, 5, 4], [4, 3, 4, 3, 2], [1, 3, 1, 2, 5], [5, 2, 4, 3, 1], [3, 1, 1, 4, 2], [1, 3, 3, 4, 5], [5, 4, 2, 3, 3], [2, 3, 3, 5, 3], [5, 3, 1, 3, 3], [3, 4, 3, 2, 5], [4, 2, 4, 5, 2], [3, 3, 3, 2, 4], [3, 3, 2, 2, 3], [3, 0, 6, 2, 5], [0, 3, 3, 5, 6], [6, 1, 4, 2, 1], [2, 0, 1, 5, 3], [3, 3, 4, 4, 2], [5, 3, 5, 2, 4], [3, 5, 6, 3, 4], [3, 4, 3, 5, 6], [5, 3, 2, 4, 1], [3, 4, 2, 3, 2], [2, 1, 5, 2, 1], [1, 1, 4, 0, 1], [0, 5, 2, 4, 2], [0, 1, 2, 3, 5], [3, 1, 1, 4, 0], [4, 3, 6, 3, 5], [5, 5, 1, 0, 2], [5, 3, 4, 0, 4], [1, 3, 4, 2, 4], [6, 2, 1, 3, 3], [2, 2, 6, 1, 2], [3, 4, 4, 6, 4], [3, 2, 3, 2, 1], [2, 3, 3, 1, 4], [3, 3, 2, 3, 4], [4, 1, 2, 2, 3], [1, 4, 2, 3, 5], [2, 3, 4, 4, 1], [1, 3, 5, 0, 4], [4, 5, 0, 0, 4], [4, 3, 5, 1, 3], [3, 3, 5, 3, 3], [2, 4, 1, 3, 1], [6, 3, 6, 1, 5], [4, 5, 1, 3, 1], [3, 0, 1, 3, 1], [2, 2, 4, 6, 4], [2, 2, 3, 2, 3], [3, 6, 5, 1, 5], [3, 5, 2, 3, 0], [5, 5, 2, 3, 4], [4, 4, 3, 3, 4], [4, 4, 0, 4, 6], [4, 5, 3, 3, 2], [2, 4, 6, 3, 5], [1, 3, 3, 4, 4], [4, 3, 2, 4, 0], [6, 1, 4, 3, 3], [3, 4, 3, 1, 3], [4, 3, 5, 4, 0], [3, 5, 0, 3, 2], [3, 2, 0, 2, 2], [5, 1, 0, 3, 3], [5, 3, 3, 2, 1], [3, 1, 4, 3, 5], [2, 4, 4, 2, 5], [0, 3, 2, 6, 5], [1, 2, 1, 4, 2], [2, 2, 6, 3, 3], [1, 4, 5, 4, 5], [6, 1, 3, 4, 0], [2, 2, 5, 2, 4], [1, 1, 3, 3, 5], [2, 1, 2, 3, 0], [1, 1, 3, 3, 4], [3, 3, 6, 2, 4], [2, 3, 3, 2, 2], [3, 2, 0, 0, 1], [3, 2, 3, 4, 1], [2, 6, 3, 5, 5], [5, 4, 4, 5, 2], [4, 4, 4, 4, 3], [5, 4, 1, 3, 3], [3, 3, 3, 6, 2], [3, 2, 2, 0, 2], [3, 3, 0, 2, 4], [3, 2, 1, 2, 5], [3, 0, 3, 3, 0], [4, 2, 3, 3, 4], [4, 5, 4, 3, 6], [3, 0, 5, 6, 5], [3, 1, 2, 4, 5], [5, 3, 6, 4, 5], [3, 2, 4, 4, 1], [4, 5, 2, 4, 3], [4, 4, 3, 4, 3], [4, 3, 0, 3, 2], [1, 1, 2, 3, 4], [5, 2, 4, 4, 5], [3, 4, 2, 4, 3], [5, 2, 1, 0, 3], [3, 2, 0, 1, 2], [1, 1, 3, 3, 4], [2, 4, 0, 4, 2], [2, 1, 4, 6, 3], [2, 1, 1, 5, 2], [5, 5, 6, 3, 3], [4, 0, 0, 3, 1], [4, 1, 0, 2, 0], [2, 2, 6, 0, 4], [2, 1, 1, 3, 4], [5, 1, 2, 1, 4], [3, 5, 6, 5, 2], [4, 5, 2, 3, 6], [3, 1, 6, 0, 2], [0, 5, 4, 4, 1], [5, 1, 3, 3, 2], [2, 3, 3, 0, 6], [1, 3, 5, 2, 0], [5, 3, 4, 3, 3], [0, 4, 2, 5, 3], [5, 3, 4, 5, 4], [2, 2, 2, 2, 4], [5, 5, 3, 1, 0], [2, 3, 5, 4, 4], [2, 4, 2, 4, 4], [4, 2, 4, 6, 3], [6, 0, 2, 3, 4], [4, 3, 1, 5, 2], [4, 4, 0, 2, 2], [4, 5, 2, 4, 1], [4, 0, 3, 5, 4], [6, 3, 3, 2, 0], [6, 3, 3, 5, 3], [5, 3, 2, 4, 4], [3, 4, 3, 5, 3], [1, 6, 5, 2, 5], [4, 3, 4, 1, 4], [1, 4, 2, 5, 6], [3, 3, 1, 5, 0], [4, 1, 5, 4, 2], [4, 3, 3, 3, 3], [2, 0, 2, 1, 3], [3, 4, 3, 4, 3], [4, 4, 6, 6, 2], [3, 2, 4, 3, 0], [2, 3, 3, 2, 4], [2, 1, 3, 5, 3], [3, 2, 5, 4, 3], [4, 6, 6, 0, 2], [4, 0, 1, 0, 6], [3, 2, 1, 4, 2], [1, 2, 4, 4, 5], [1, 4, 0, 2, 4], [3, 1, 5, 4, 1], [6, 0, 3, 3, 3], [4, 3, 3, 3, 1], [2, 3, 3, 3, 0], [4, 2, 2, 4, 2], [3, 1, 5, 3, 1]]\n"
     ]
    }
   ],
   "source": [
    "print(lst)"
   ]
  },
  {
   "cell_type": "code",
   "execution_count": null,
   "metadata": {},
   "outputs": [],
   "source": [
    "prob = pulp.LpProblem(\"EVChargingPortExpansion\", pulp.LpMinimize)"
   ]
  },
  {
   "cell_type": "code",
   "execution_count": null,
   "metadata": {},
   "outputs": [],
   "source": [
    "additional_ports = pulp.LpVariable.dicts(\"AdditionalPorts\", station_ids, lowBound=0, cat='Integer')"
   ]
  },
  {
   "cell_type": "code",
   "execution_count": null,
   "metadata": {},
   "outputs": [],
   "source": [
    "D_c = 1  # Dissatisfaction cost per failed car reservation\n",
    "D_p = 1  # Dissatisfaction cost per failed parking reservation\n",
    "prob += pulp.lpSum(D_c * failed_car_reservations[(s, t)] + D_p * failed_parking_reservations[(s, t)]\n",
    "                   for s in station_ids for t in time_periods)"
   ]
  },
  {
   "cell_type": "code",
   "execution_count": null,
   "metadata": {},
   "outputs": [],
   "source": [
    "current_capacity = {station: 4 for station in station_ids}"
   ]
  },
  {
   "cell_type": "code",
   "execution_count": null,
   "metadata": {},
   "outputs": [],
   "source": [
    "installation_cost_per_port = 1000  # Cost per additional port\n",
    "budget = 9999999999999999  # Total budget (you may want to adjust this based on the scale)"
   ]
  },
  {
   "cell_type": "code",
   "execution_count": null,
   "metadata": {},
   "outputs": [],
   "source": [
    "# Constraints\n",
    "for s in station_ids:\n",
    "    # New capacity must meet predicted demand\n",
    "    for t in time_periods:\n",
    "        prob += current_capacity[s] + additional_ports[s] >= predicted_demand[(s, t)]\n",
    "\n",
    "# Budget constraint\n",
    "prob += pulp.lpSum(additional_ports[s] * installation_cost_per_port for s in station_ids) <= budget\n",
    "\n",
    "# Solve the problem\n",
    "prob.solve()\n",
    "\n",
    "\n",
    "results = {s: pulp.value(additional_ports[s]) for s in station_ids if pulp.value(additional_ports[s]) > 0}\n",
    "results_df = pl.DataFrame(list(results.items()), [\"Station\", \"Additional Ports\"])\n",
    "print(results_df.sort('Additional Ports').reverse())"
   ]
  }
 ],
 "metadata": {
  "kernelspec": {
   "display_name": "car-sharing-case-study-2W5MY4dm-py3.10",
   "language": "python",
   "name": "python3"
  },
  "language_info": {
   "codemirror_mode": {
    "name": "ipython",
    "version": 3
   },
   "file_extension": ".py",
   "mimetype": "text/x-python",
   "name": "python",
   "nbconvert_exporter": "python",
   "pygments_lexer": "ipython3",
   "version": "3.10.13"
  }
 },
 "nbformat": 4,
 "nbformat_minor": 2
}
